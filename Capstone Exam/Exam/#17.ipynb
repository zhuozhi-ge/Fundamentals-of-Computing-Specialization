{
 "cells": [
  {
   "cell_type": "code",
   "execution_count": 3,
   "metadata": {},
   "outputs": [
    {
     "data": {
      "text/plain": [
       "(81, 62)"
      ]
     },
     "execution_count": 3,
     "metadata": {},
     "output_type": "execute_result"
    }
   ],
   "source": [
    "REC = {}\n",
    "\n",
    "def pick(board):\n",
    "    global REC\n",
    "    if len(board) == 1:\n",
    "        return (board[0], 0)\n",
    "    if board in REC:\n",
    "        return REC[board]\n",
    "    if pick(board[1:])[1] + board[0] > pick(board[:-1])[1] + board[-1]:\n",
    "        REC[board] = pick(board[1:])[1] + board[0], pick(board[1:])[0]\n",
    "        return (pick(board[1:])[1] + board[0], pick(board[1:])[0])\n",
    "    else:\n",
    "        REC[board] = pick(board[:-1])[1] + board[-1], pick(board[:-1])[0]\n",
    "        return (pick(board[:-1])[1] + board[-1], pick(board[:-1])[0])\n",
    "\n",
    "board = (12, 9, 7, 3, 4, 7, 4, 7, 3, 16, 4, 8, 12, 1, 2, 7, 11, 6, 3, 9, 7, 1)\n",
    "pick(board)"
   ]
  },
  {
   "cell_type": "code",
   "execution_count": null,
   "metadata": {},
   "outputs": [],
   "source": []
  }
 ],
 "metadata": {
  "kernelspec": {
   "display_name": "Python 3",
   "language": "python",
   "name": "python3"
  },
  "language_info": {
   "codemirror_mode": {
    "name": "ipython",
    "version": 3
   },
   "file_extension": ".py",
   "mimetype": "text/x-python",
   "name": "python",
   "nbconvert_exporter": "python",
   "pygments_lexer": "ipython3",
   "version": "3.7.3"
  }
 },
 "nbformat": 4,
 "nbformat_minor": 4
}
